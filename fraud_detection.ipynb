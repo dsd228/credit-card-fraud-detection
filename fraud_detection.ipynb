{
 "cells": [
  {
   "cell_type": "code",
   "execution_count": null,
   "id": "f039e122",
   "metadata": {},
   "outputs": [],
   "source": [
    "# 📦 Importación de librerías necesarias / Required Libraries\n",
    "import pandas as pd\n",
    "import matplotlib.pyplot as plt\n",
    "import seaborn as sns\n",
    "\n",
    "from sklearn.model_selection import train_test_split\n",
    "from sklearn.ensemble import RandomForestClassifier\n",
    "from sklearn.metrics import confusion_matrix, roc_auc_score, classification_report\n",
    "\n",
    "from imblearn.over_sampling import SMOTE\n"
   ]
  },
  {
   "cell_type": "code",
   "execution_count": null,
   "id": "f0ce083b",
   "metadata": {},
   "outputs": [],
   "source": [
    "# 📂 Carga del dataset / Load dataset\n",
    "df = pd.read_csv('data/creditcard.csv')\n",
    "df.head()\n"
   ]
  },
  {
   "cell_type": "code",
   "execution_count": null,
   "id": "f0018012",
   "metadata": {},
   "outputs": [],
   "source": [
    "# 📊 Distribución de clases / Class distribution\n",
    "print(df['Class'].value_counts())\n",
    "\n",
    "# 📈 Heatmap de correlaciones\n",
    "plt.figure(figsize=(12,8))\n",
    "sns.heatmap(df.corr(), cmap='coolwarm')\n",
    "plt.title('Correlation Heatmap')\n",
    "plt.tight_layout()\n",
    "plt.savefig('images/correlation_heatmap.png', dpi=300)\n",
    "plt.show()\n"
   ]
  },
  {
   "cell_type": "code",
   "execution_count": null,
   "id": "ecaf872b",
   "metadata": {},
   "outputs": [],
   "source": [
    "# 🎯 Separar variables / Separate features and target\n",
    "X = df.drop('Class', axis=1)\n",
    "y = df['Class']\n",
    "\n",
    "# ⚖️ Aplicar SMOTE / Apply SMOTE\n",
    "smote = SMOTE(random_state=42)\n",
    "X_resampled, y_resampled = smote.fit_resample(X, y)\n",
    "\n",
    "print(\"Clase original:\\n\", y.value_counts())\n",
    "print(\"Clase balanceada:\\n\", pd.Series(y_resampled).value_counts())\n"
   ]
  },
  {
   "cell_type": "code",
   "execution_count": null,
   "id": "dde0ac92",
   "metadata": {},
   "outputs": [],
   "source": [
    "# 🌲 Entrenar modelo de Random Forest / Train Random Forest\n",
    "model = RandomForestClassifier(random_state=42)\n",
    "model.fit(X_resampled, y_resampled)\n"
   ]
  },
  {
   "cell_type": "code",
   "execution_count": null,
   "id": "331ae619",
   "metadata": {},
   "outputs": [],
   "source": [
    "# 🧠 Predicción sobre datos originales / Prediction on original data\n",
    "y_pred = model.predict(X)\n",
    "\n",
    "# 📋 Métricas / Metrics\n",
    "print(classification_report(y, y_pred))\n",
    "print(\"ROC AUC:\", roc_auc_score(y, model.predict_proba(X)[:,1]))\n",
    "\n",
    "# 📷 Guardar visuales (confusión y curva ROC) / Save evaluation visuals\n",
    "cm = confusion_matrix(y, y_pred)\n",
    "sns.heatmap(cm, annot=True, fmt='d', cmap='Blues')\n",
    "plt.title('Confusion Matrix')\n",
    "plt.tight_layout()\n",
    "plt.savefig('images/confusion_matrix.png', dpi=300)\n",
    "plt.show()\n"
   ]
  },
  {
   "cell_type": "code",
   "execution_count": null,
   "id": "77a00127",
   "metadata": {},
   "outputs": [],
   "source": [
    "# 📌 Importancia de variables / Feature importance\n",
    "importances = model.feature_importances_\n",
    "plt.figure(figsize=(10,8))\n",
    "plt.barh(X.columns, importances)\n",
    "plt.title('Feature Importance')\n",
    "plt.tight_layout()\n",
    "plt.savefig('images/feature_importance.png', dpi=300)\n",
    "plt.show()\n"
   ]
  },
  {
   "cell_type": "markdown",
   "id": "1f555ca5",
   "metadata": {},
   "source": [
    "### 🧠 Strategic Insights\n",
    "\n",
    "- 🔍 Variables más influyentes: Las más importantes en el modelo fueron X, Y y Z.\n",
    "- 💡 Impacto: Detectar patrones en estas variables permite reducir pérdidas por fraude.\n",
    "- 📈 Decisión: Este modelo puede integrarse en tiempo real para alertas automatizadas.\n",
    "\n",
    "---\n",
    "\n",
    "**Next Steps / Próximos pasos:**\n",
    "- Validación cruzada con más modelos (Logistic Regression, XGBoost).\n",
    "- GridSearch para optimización de hiperparámetros.\n",
    "- Integración de visuales con dashboard (Streamlit o Power BI).\n",
    "\n",
    "🔗 Ver README para contexto completo del proyecto.\n"
   ]
  }
 ],
 "metadata": {},
 "nbformat": 4,
 "nbformat_minor": 5
}
