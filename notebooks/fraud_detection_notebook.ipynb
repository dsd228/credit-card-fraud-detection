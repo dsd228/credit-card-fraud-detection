{
 "cells": [
  {
   "cell_type": "markdown",
   "id": "23121b9f",
   "metadata": {},
   "source": [
    "# 🔍 Detección de Fraude con Tarjetas de Crédito\n",
    "\n",
    "Este notebook analiza un dataset de transacciones para detectar posibles fraudes usando técnicas de Machine Learning."
   ]
  },
  {
   "cell_type": "code",
   "execution_count": null,
   "id": "68a11860",
   "metadata": {},
   "outputs": [],
   "source": [
    "import pandas as pd\n",
    "\n",
    "# Cargar el dataset (asegúrate de tener el archivo en tu carpeta)\n",
    "df = pd.read_csv(\"creditcard.csv\")\n",
    "df.head()"
   ]
  },
  {
   "cell_type": "markdown",
   "id": "bf1e7086",
   "metadata": {},
   "source": [
    "## 🧼 Limpieza de datos"
   ]
  },
  {
   "cell_type": "code",
   "execution_count": null,
   "id": "6ff5ecf5",
   "metadata": {},
   "outputs": [],
   "source": [
    "# Verificar datos faltantes\n",
    "df.isnull().sum()"
   ]
  },
  {
   "cell_type": "markdown",
   "id": "bf94ce05",
   "metadata": {},
   "source": [
    "## 📊 Análisis Exploratorio"
   ]
  },
  {
   "cell_type": "code",
   "execution_count": null,
   "id": "826dee63",
   "metadata": {},
   "outputs": [],
   "source": [
    "import matplotlib.pyplot as plt\n",
    "import seaborn as sns\n",
    "\n",
    "sns.countplot(x='Class', data=df)\n",
    "plt.title(\"Distribución de clases\")\n",
    "plt.xticks([0, 1], ['No Fraude', 'Fraude'])\n",
    "plt.show()"
   ]
  },
  {
   "cell_type": "markdown",
   "id": "01fc49f6",
   "metadata": {},
   "source": [
    "## 🤖 Modelado"
   ]
  },
  {
   "cell_type": "code",
   "execution_count": null,
   "id": "cca46dba",
   "metadata": {},
   "outputs": [],
   "source": [
    "from sklearn.model_selection import train_test_split\n",
    "from sklearn.ensemble import RandomForestClassifier\n",
    "from sklearn.metrics import classification_report, confusion_matrix\n",
    "\n",
    "X = df.drop('Class', axis=1)\n",
    "y = df['Class']\n",
    "\n",
    "X_train, X_test, y_train, y_test = train_test_split(X, y, test_size=0.3, random_state=42)\n",
    "\n",
    "model = RandomForestClassifier(n_estimators=100, random_state=42)\n",
    "model.fit(X_train, y_train)\n",
    "y_pred = model.predict(X_test)"
   ]
  },
  {
   "cell_type": "markdown",
   "id": "7c33bf1d",
   "metadata": {},
   "source": [
    "## ✅ Evaluación"
   ]
  },
  {
   "cell_type": "code",
   "execution_count": null,
   "id": "ed56b1f1",
   "metadata": {},
   "outputs": [],
   "source": [
    "print(confusion_matrix(y_test, y_pred))\n",
    "print(classification_report(y_test, y_pred))"
   ]
  }
 ],
 "metadata": {},
 "nbformat": 4,
 "nbformat_minor": 5
}
